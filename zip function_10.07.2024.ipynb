{
 "cells": [
  {
   "cell_type": "code",
   "execution_count": null,
   "id": "e769585b",
   "metadata": {},
   "outputs": [],
   "source": [
    "zip function:\n",
    "    to combine two iterables into dict ,list of tuple ,tuple of tuple"
   ]
  },
  {
   "cell_type": "code",
   "execution_count": 11,
   "id": "d8acfb9c",
   "metadata": {},
   "outputs": [],
   "source": [
    "t1 = [1,2,3]\n",
    "t2 =['python','java','hadoop','ml','ds']"
   ]
  },
  {
   "cell_type": "code",
   "execution_count": 12,
   "id": "08842eba",
   "metadata": {},
   "outputs": [],
   "source": [
    "#{1:'python',2:'java',3:'hadoop'}"
   ]
  },
  {
   "cell_type": "code",
   "execution_count": 13,
   "id": "77c8717a",
   "metadata": {},
   "outputs": [
    {
     "data": {
      "text/plain": [
       "{1: 'python', 2: 'java', 3: 'hadoop'}"
      ]
     },
     "execution_count": 13,
     "metadata": {},
     "output_type": "execute_result"
    }
   ],
   "source": [
    "dict(zip(t1,t2))"
   ]
  },
  {
   "cell_type": "code",
   "execution_count": 14,
   "id": "0c74ec3c",
   "metadata": {},
   "outputs": [
    {
     "data": {
      "text/plain": [
       "{'python': 1, 'java': 2, 'hadoop': 3}"
      ]
     },
     "execution_count": 14,
     "metadata": {},
     "output_type": "execute_result"
    }
   ],
   "source": [
    "dict(zip(t2,t1))"
   ]
  },
  {
   "cell_type": "code",
   "execution_count": 15,
   "id": "a255f687",
   "metadata": {},
   "outputs": [
    {
     "data": {
      "text/plain": [
       "[('python', 1), ('java', 2), ('hadoop', 3)]"
      ]
     },
     "execution_count": 15,
     "metadata": {},
     "output_type": "execute_result"
    }
   ],
   "source": [
    "list(zip(t2,t1))"
   ]
  },
  {
   "cell_type": "code",
   "execution_count": 17,
   "id": "c4063d97",
   "metadata": {},
   "outputs": [
    {
     "data": {
      "text/plain": [
       "(('python', 1), ('java', 2), ('hadoop', 3))"
      ]
     },
     "execution_count": 17,
     "metadata": {},
     "output_type": "execute_result"
    }
   ],
   "source": [
    "tuple(zip(t2,t1))"
   ]
  },
  {
   "cell_type": "code",
   "execution_count": 18,
   "id": "bc55811a",
   "metadata": {},
   "outputs": [],
   "source": [
    "header = ['id','name','sal']\n",
    "\n",
    "row = [101,'python',26161]\n",
    "\n",
    "row1 = [506,'hadoop',161616]"
   ]
  },
  {
   "cell_type": "code",
   "execution_count": 19,
   "id": "516f8c13",
   "metadata": {},
   "outputs": [
    {
     "data": {
      "text/plain": [
       "{'id': 101, 'name': 'python', 'sal': 26161}"
      ]
     },
     "execution_count": 19,
     "metadata": {},
     "output_type": "execute_result"
    }
   ],
   "source": [
    "dict(zip(header,row))"
   ]
  },
  {
   "cell_type": "code",
   "execution_count": 20,
   "id": "1a18a38a",
   "metadata": {},
   "outputs": [
    {
     "data": {
      "text/plain": [
       "{'id': 506, 'name': 'hadoop', 'sal': 161616}"
      ]
     },
     "execution_count": 20,
     "metadata": {},
     "output_type": "execute_result"
    }
   ],
   "source": [
    "dict(zip(header,row1))"
   ]
  },
  {
   "cell_type": "code",
   "execution_count": 21,
   "id": "76559fdf",
   "metadata": {},
   "outputs": [
    {
     "name": "stdout",
     "output_type": "stream",
     "text": [
      "{'id': 101, 'name': 'python', 'sal': 26161}\n",
      "{'id': 506, 'name': 'hadoop', 'sal': 161616}\n"
     ]
    }
   ],
   "source": [
    "for r in [row,row1]:\n",
    "    print(dict(zip(header,r)))"
   ]
  },
  {
   "cell_type": "code",
   "execution_count": 22,
   "id": "17242916",
   "metadata": {},
   "outputs": [],
   "source": [
    "t = {'id': 101, 'name': 'python', 'sal': 26161}"
   ]
  },
  {
   "cell_type": "code",
   "execution_count": 23,
   "id": "732ff1e9",
   "metadata": {},
   "outputs": [],
   "source": [
    "keys,values = t.keys(),t.values()"
   ]
  },
  {
   "cell_type": "code",
   "execution_count": 24,
   "id": "dee54411",
   "metadata": {},
   "outputs": [
    {
     "data": {
      "text/plain": [
       "dict_keys(['id', 'name', 'sal'])"
      ]
     },
     "execution_count": 24,
     "metadata": {},
     "output_type": "execute_result"
    }
   ],
   "source": [
    "keys"
   ]
  },
  {
   "cell_type": "code",
   "execution_count": 25,
   "id": "3a3fca6b",
   "metadata": {},
   "outputs": [
    {
     "data": {
      "text/plain": [
       "dict_values([101, 'python', 26161])"
      ]
     },
     "execution_count": 25,
     "metadata": {},
     "output_type": "execute_result"
    }
   ],
   "source": [
    "values"
   ]
  },
  {
   "cell_type": "code",
   "execution_count": null,
   "id": "6e397874",
   "metadata": {},
   "outputs": [],
   "source": []
  },
  {
   "cell_type": "code",
   "execution_count": 26,
   "id": "549a16cb",
   "metadata": {},
   "outputs": [],
   "source": [
    "header = ['id','name','sal']\n",
    "\n",
    "row = [101,'python',26161]"
   ]
  },
  {
   "cell_type": "code",
   "execution_count": 42,
   "id": "a4a0bd75",
   "metadata": {},
   "outputs": [],
   "source": [
    "tt = list(zip(header,row))"
   ]
  },
  {
   "cell_type": "code",
   "execution_count": 43,
   "id": "aeec1232",
   "metadata": {},
   "outputs": [
    {
     "data": {
      "text/plain": [
       "(('id', 'name', 'sal'), (101, 'python', 26161))"
      ]
     },
     "execution_count": 43,
     "metadata": {},
     "output_type": "execute_result"
    }
   ],
   "source": [
    "tuple(zip(*tt))"
   ]
  },
  {
   "cell_type": "code",
   "execution_count": null,
   "id": "5126e1bc",
   "metadata": {},
   "outputs": [],
   "source": [
    "code optimization tech:\n",
    "    lambda expression\n",
    "    "
   ]
  }
 ],
 "metadata": {
  "kernelspec": {
   "display_name": "Python 3",
   "language": "python",
   "name": "python3"
  },
  "language_info": {
   "codemirror_mode": {
    "name": "ipython",
    "version": 3
   },
   "file_extension": ".py",
   "mimetype": "text/x-python",
   "name": "python",
   "nbconvert_exporter": "python",
   "pygments_lexer": "ipython3",
   "version": "3.8.8"
  }
 },
 "nbformat": 4,
 "nbformat_minor": 5
}
