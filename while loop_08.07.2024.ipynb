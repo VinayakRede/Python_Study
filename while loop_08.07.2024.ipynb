{
 "cells": [
  {
   "cell_type": "code",
   "execution_count": null,
   "id": "b00df3bf",
   "metadata": {},
   "outputs": [],
   "source": [
    "for loop\n",
    "for loop with condition\n",
    "for with break and continue"
   ]
  },
  {
   "cell_type": "code",
   "execution_count": null,
   "id": "cfd05cb4",
   "metadata": {},
   "outputs": [],
   "source": [
    "for loop:\n",
    "    DS/group of values / no.of time.iterate  99%\n",
    "    \n",
    "while loop:\n",
    "    condition\n",
    "    condition based loop 10%"
   ]
  },
  {
   "cell_type": "code",
   "execution_count": 1,
   "id": "43b7a010",
   "metadata": {},
   "outputs": [
    {
     "name": "stdout",
     "output_type": "stream",
     "text": [
      "1\n",
      "2\n",
      "3\n",
      "4\n",
      "5\n",
      "6\n",
      "7\n",
      "8\n",
      "9\n",
      "10\n"
     ]
    }
   ],
   "source": [
    "i=1\n",
    "while i<=10:\n",
    "    print(i)\n",
    "    i+=1"
   ]
  },
  {
   "cell_type": "code",
   "execution_count": 6,
   "id": "a891bca4",
   "metadata": {},
   "outputs": [
    {
     "name": "stdout",
     "output_type": "stream",
     "text": [
      "Addition Program\n",
      "Enter the number1:534\n",
      "Enter the number2:54\n",
      "Addition of 534 and 54 is 588\n",
      "Do you want to continue-yes | no :NO\n",
      "thanks for visiting\n"
     ]
    }
   ],
   "source": [
    "print(\"Addition Program\")\n",
    "while True:\n",
    "    a = int(input(\"Enter the number1:\"))\n",
    "    b= int(input(\"Enter the number2:\"))\n",
    "    c =a+b\n",
    "    print(\"Addition of {} and {} is {}\".format(a,b,c))\n",
    "    choice = input(\"Do you want to continue-yes | no :\")\n",
    "    if choice.lower()=='no':\n",
    "        print(\"thanks for visiting\")\n",
    "        break"
   ]
  },
  {
   "cell_type": "code",
   "execution_count": null,
   "id": "3ad1992b",
   "metadata": {},
   "outputs": [],
   "source": [
    "#Assigment above program should accept only YES|yes or NO|no\n",
    "pls enter valid input"
   ]
  },
  {
   "cell_type": "code",
   "execution_count": 7,
   "id": "4c86d8b0",
   "metadata": {},
   "outputs": [
    {
     "name": "stdout",
     "output_type": "stream",
     "text": [
      "Addition Program\n",
      "Enter the number1:15\n",
      "Enter the number2:46\n",
      "Addition of 15 and 46 is 61\n",
      "Do you want to continue-yes | no :NO\n",
      "thanks for visiting\n"
     ]
    }
   ],
   "source": [
    "print(\"Addition Program\")\n",
    "flag = True\n",
    "while flag:\n",
    "    a = int(input(\"Enter the number1:\"))\n",
    "    b= int(input(\"Enter the number2:\"))\n",
    "    c =a+b\n",
    "    print(\"Addition of {} and {} is {}\".format(a,b,c))\n",
    "    choice = input(\"Do you want to continue-yes | no :\")\n",
    "    if choice.lower()=='no':\n",
    "        print(\"thanks for visiting\")\n",
    "        flag = False"
   ]
  },
  {
   "cell_type": "code",
   "execution_count": null,
   "id": "b4216cc2",
   "metadata": {},
   "outputs": [],
   "source": [
    "practice --> function -- Python --IMP"
   ]
  },
  {
   "cell_type": "code",
   "execution_count": null,
   "id": "722243ae",
   "metadata": {},
   "outputs": [],
   "source": []
  },
  {
   "cell_type": "code",
   "execution_count": null,
   "id": "6b5503b9",
   "metadata": {},
   "outputs": [],
   "source": []
  }
 ],
 "metadata": {
  "kernelspec": {
   "display_name": "Python 3 (ipykernel)",
   "language": "python",
   "name": "python3"
  },
  "language_info": {
   "codemirror_mode": {
    "name": "ipython",
    "version": 3
   },
   "file_extension": ".py",
   "mimetype": "text/x-python",
   "name": "python",
   "nbconvert_exporter": "python",
   "pygments_lexer": "ipython3",
   "version": "3.11.7"
  }
 },
 "nbformat": 4,
 "nbformat_minor": 5
}
